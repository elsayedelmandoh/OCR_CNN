{
  "cells": [
    {
      "cell_type": "markdown",
      "metadata": {
        "id": "X8Y__R6q6och"
      },
      "source": [
        "# OCR with Keras, TensorFlow, and Deep Learning"
      ]
    },
    {
      "cell_type": "markdown",
      "metadata": {
        "id": "VmSPOskOPFs5"
      },
      "source": [
        "# Text data and known labels\n"
      ]
    },
    {
      "cell_type": "code",
      "execution_count": 5,
      "metadata": {
        "id": "pFqqDtKRQVSJ"
      },
      "outputs": [],
      "source": [
        "import numpy as np\n",
        "import cv2\n",
        "import os"
      ]
    },
    {
      "cell_type": "markdown",
      "metadata": {
        "id": "l7wHwRzmO84u"
      },
      "source": [
        "+ connect drive "
      ]
    },
    {
      "cell_type": "code",
      "execution_count": null,
      "metadata": {
        "colab": {
          "base_uri": "https://localhost:8080/"
        },
        "id": "y4etw_7H9o4v",
        "outputId": "3f029799-5698-4c5c-8825-200550b9b45b"
      },
      "outputs": [
        {
          "name": "stdout",
          "output_type": "stream",
          "text": [
            "Drive already mounted at /content/drive; to attempt to forcibly remount, call drive.mount(\"/content/drive\", force_remount=True).\n"
          ]
        }
      ],
      "source": [
        "from google.colab import drive\n",
        "drive.mount('/content/drive')"
      ]
    },
    {
      "cell_type": "code",
      "execution_count": null,
      "metadata": {
        "id": "ilb7BizB6ocr"
      },
      "outputs": [],
      "source": [
        "train_dir = r'/content/drive/MyDrive/OCR_ML_CV/training_data'\n",
        "test_dir = r'/content/drive/MyDrive/OCR_ML_CV/testing_data'"
      ]
    },
    {
      "cell_type": "code",
      "execution_count": null,
      "metadata": {
        "id": "CJyHP8pW6ocr"
      },
      "outputs": [],
      "source": [
        "#  Load training images\n",
        "train_images = []\n",
        "train_labels = []\n",
        "\n",
        "for label in range(10):\n",
        "    folder_path = os.path.join(train_dir, str(label))\n",
        "    file_names = os.listdir(folder_path)\n",
        "\n",
        "    for file_name in file_names:\n",
        "        image_path = os.path.join(folder_path, file_name)\n",
        "        image = cv2.imread(image_path, cv2.IMREAD_GRAYSCALE)\n",
        "        image = cv2.resize(image, (28, 28))\n",
        "        train_images.append(image)\n",
        "        train_labels.append(label)\n",
        "\n",
        "# Load A to Z training images\n",
        "for label in range(ord('A'), ord('Z')+1):\n",
        "    folder_path = os.path.join(train_dir, chr(label))\n",
        "    file_names = os.listdir(folder_path)\n",
        "\n",
        "    for file_name in file_names:\n",
        "        image_path = os.path.join(folder_path, file_name)\n",
        "        image = cv2.imread(image_path, cv2.IMREAD_GRAYSCALE)\n",
        "        image = cv2.resize(image, (28, 28))\n",
        "        train_images.append(image)\n",
        "        train_labels.append(label - ord('A') + 10)"
      ]
    },
    {
      "cell_type": "code",
      "execution_count": null,
      "metadata": {
        "colab": {
          "base_uri": "https://localhost:8080/"
        },
        "id": "-Y9LEKMP_Wib",
        "outputId": "ac368657-503d-47c3-ee39-159e593f2cda"
      },
      "outputs": [
        {
          "name": "stdout",
          "output_type": "stream",
          "text": [
            "Train Labels: [ 0  1  2  3  4  5  6  7  8  9 10 11 12 13 14 15 16 17 18 19 20 21 22 23\n",
            " 24 25 26 27 28 29 30 31 32 33 34 35]\n"
          ]
        }
      ],
      "source": [
        "print(\"Train Labels:\", np.unique(train_labels))"
      ]
    },
    {
      "cell_type": "code",
      "execution_count": null,
      "metadata": {
        "id": "B1wpmacI6oct"
      },
      "outputs": [],
      "source": [
        "# Convert lists to NumPy arrays\n",
        "train_images = np.array(train_images)\n",
        "train_labels = np.array(train_labels)"
      ]
    },
    {
      "cell_type": "code",
      "execution_count": null,
      "metadata": {
        "id": "DYFq-qqh6ocu"
      },
      "outputs": [],
      "source": [
        "# Load test images\n",
        "test_images = []\n",
        "test_labels = []\n",
        "\n",
        "for label in range(10):\n",
        "    folder_path = os.path.join(test_dir, str(label))\n",
        "    file_names = os.listdir(folder_path)\n",
        "\n",
        "    for file_name in file_names:\n",
        "        image_path = os.path.join(folder_path, file_name)\n",
        "        image = cv2.imread(image_path, cv2.IMREAD_GRAYSCALE)\n",
        "        image = cv2.resize(image, (28, 28))\n",
        "        test_images.append(image)\n",
        "        test_labels.append(label)\n",
        "\n",
        "# Load A to Z test images\n",
        "for label in range(ord('A'), ord('Z')+1):\n",
        "    folder_path = os.path.join(test_dir, chr(label))\n",
        "    file_names = os.listdir(folder_path)\n",
        "\n",
        "    for file_name in file_names:\n",
        "        image_path = os.path.join(folder_path, file_name)\n",
        "        image = cv2.imread(image_path, cv2.IMREAD_GRAYSCALE)\n",
        "        image = cv2.resize(image, (28, 28))\n",
        "        test_images.append(image)\n",
        "        test_labels.append(label - ord('A') +10)"
      ]
    },
    {
      "cell_type": "code",
      "execution_count": null,
      "metadata": {
        "colab": {
          "base_uri": "https://localhost:8080/"
        },
        "id": "SBgcmKLw_cLw",
        "outputId": "86312488-0329-4386-c358-96a9b8a27526"
      },
      "outputs": [
        {
          "name": "stdout",
          "output_type": "stream",
          "text": [
            "Test Labels: [ 0  1  2  3  4  5  6  7  8  9 10 11 12 13 14 15 16 17 18 19 20 21 22 23\n",
            " 24 25 26 27 28 29 30 31 32 33 34 35]\n"
          ]
        }
      ],
      "source": [
        "print(\"Test Labels:\", np.unique(test_labels))"
      ]
    },
    {
      "cell_type": "code",
      "execution_count": null,
      "metadata": {
        "id": "4YPMIO6F6ocv"
      },
      "outputs": [],
      "source": [
        "# Convert lists to NumPy arrays\n",
        "test_images = np.array(test_images)\n",
        "test_labels = np.array(test_labels)"
      ]
    },
    {
      "cell_type": "markdown",
      "metadata": {
        "id": "Kt6lu3DJOruY"
      },
      "source": [
        "# Data Preprocessing"
      ]
    },
    {
      "cell_type": "code",
      "execution_count": null,
      "metadata": {
        "id": "67HufSZQ6ocv"
      },
      "outputs": [],
      "source": [
        "# Data Preprocessing reshaping with depth 1 and normalizing 0 to 1\n",
        "train_images = train_images.reshape(train_images.shape[0], 28, 28, 1)\n",
        "test_images = test_images.reshape(test_images.shape[0], 28, 28, 1) \n",
        "train_images = train_images / 255.0\n",
        "test_images = test_images / 255.0"
      ]
    },
    {
      "cell_type": "markdown",
      "metadata": {
        "id": "aSjak_LJD42Y"
      },
      "source": [
        "# Build Model"
      ]
    },
    {
      "cell_type": "code",
      "execution_count": null,
      "metadata": {
        "id": "JzkfjdD96ocw"
      },
      "outputs": [],
      "source": [
        "#  define a linear stack of layers (structure)\n",
        "from tensorflow.keras.models import Sequential\n",
        "from tensorflow.keras.layers import Conv2D, MaxPooling2D, Flatten, Dense"
      ]
    },
    {
      "cell_type": "code",
      "execution_count": null,
      "metadata": {
        "id": "ZxHeiwWM6ocx"
      },
      "outputs": [],
      "source": [
        "''' Define the model architecture consists of\n",
        "    - Convolutional layer\n",
        "    - Max pooling layer\n",
        "    - Flatten layer\n",
        "    - Fully connected layer\n",
        "'''\n",
        "model = Sequential()\n",
        "\n",
        "# uses 32 filters of size 3x3 and employs the ReLU activation function= max( 0 , x )\n",
        "model.add(Conv2D(32, kernel_size=(3, 3), activation='relu', input_shape=(28, 28, 1)))\n",
        "\n",
        "# taking the maximum value within each region \n",
        "# reduce the dimensions \n",
        "model.add(MaxPooling2D(pool_size=(2, 2)))\n",
        "\n",
        "# convert dimensions to 1D vector\n",
        "model.add(Flatten())\n",
        "\n",
        "# 128 neurons with the ReLU activation function\n",
        "model.add(Dense(128, activation='relu'))\n",
        "\n",
        "# output\n",
        "# 36 neurons with the softmax activation function= exp(xi) / sum(exp(xj))\n",
        "# 36 possible output classes => (10 digits and 26 letters)\n",
        "model.add(Dense(36, activation='softmax')) \n",
        "\n",
        "            # adjusts the learning rate dynamically for each weight.\n",
        "model.compile(optimizer='adam', # Adaptive Moment Estimation\n",
        "              loss='categorical_crossentropy', # minimize the difference between the predicted probabilities and the true labels to improve the accuracy\n",
        "              metrics=['accuracy'] # to evaluate the performance of the model during training and testing\n",
        "              ) "
      ]
    },
    {
      "cell_type": "markdown",
      "metadata": {
        "id": "Ogx0UwO1KIuw"
      },
      "source": [
        "# Train Model"
      ]
    },
    {
      "cell_type": "code",
      "execution_count": null,
      "metadata": {
        "colab": {
          "base_uri": "https://localhost:8080/"
        },
        "id": "PziHK8wRKNJh",
        "outputId": "933b683c-3cd7-4f79-bccb-54bba93160a4"
      },
      "outputs": [
        {
          "name": "stdout",
          "output_type": "stream",
          "text": [
            "Epoch 1/10\n",
            "645/645 [==============================] - 18s 26ms/step - loss: 0.6698 - accuracy: 0.8335\n",
            "Epoch 2/10\n",
            "645/645 [==============================] - 17s 27ms/step - loss: 0.2140 - accuracy: 0.9428\n",
            "Epoch 3/10\n",
            "645/645 [==============================] - 18s 28ms/step - loss: 0.1596 - accuracy: 0.9541\n",
            "Epoch 4/10\n",
            "645/645 [==============================] - 22s 35ms/step - loss: 0.1224 - accuracy: 0.9613\n",
            "Epoch 5/10\n",
            "645/645 [==============================] - 20s 30ms/step - loss: 0.0993 - accuracy: 0.9679\n",
            "Epoch 6/10\n",
            "645/645 [==============================] - 17s 26ms/step - loss: 0.0835 - accuracy: 0.9717\n",
            "Epoch 7/10\n",
            "645/645 [==============================] - 19s 29ms/step - loss: 0.0746 - accuracy: 0.9737\n",
            "Epoch 8/10\n",
            "645/645 [==============================] - 17s 26ms/step - loss: 0.0577 - accuracy: 0.9781\n",
            "Epoch 9/10\n",
            "645/645 [==============================] - 17s 26ms/step - loss: 0.0514 - accuracy: 0.9800\n",
            "Epoch 10/10\n",
            "645/645 [==============================] - 18s 27ms/step - loss: 0.0509 - accuracy: 0.9803\n"
          ]
        },
        {
          "data": {
            "text/plain": [
              "<keras.callbacks.History at 0x7fcfc40ee710>"
            ]
          },
          "execution_count": 56,
          "metadata": {},
          "output_type": "execute_result"
        }
      ],
      "source": [
        "model.fit(train_images, \n",
        "          train_labels, \n",
        "          epochs=10, # how many times the model will iterate on dataset during training.\n",
        "          batch_size=32 # number of samples processed by the model at each iteration.\n",
        "          )"
      ]
    },
    {
      "cell_type": "markdown",
      "metadata": {
        "id": "KhC03VHYJhtN"
      },
      "source": [
        "# Model Evaluation"
      ]
    },
    {
      "cell_type": "code",
      "execution_count": null,
      "metadata": {
        "colab": {
          "base_uri": "https://localhost:8080/"
        },
        "id": "3w-y7fXj6ocy",
        "outputId": "4fde8411-1efd-4bbe-ff52-1988bab0a8fe"
      },
      "outputs": [
        {
          "name": "stdout",
          "output_type": "stream",
          "text": [
            "Test Loss: 0.0443127416074276\n",
            "Test Accuracy: 0.9801587462425232\n"
          ]
        }
      ],
      "source": [
        "test_loss, test_accuracy = model.evaluate(test_images, \n",
        "                                          test_labels, \n",
        "                                          verbose=0) # no progress information should be displayed during evaluation\n",
        "# average loss value of the model on the test data,\n",
        "print(\"Test Loss:\", test_loss)\n",
        "# proportion of correctly predicted labels to the total number of samples\n",
        "print(\"Test Accuracy:\", test_accuracy)"
      ]
    },
    {
      "cell_type": "markdown",
      "metadata": {
        "id": "FbBWl4UgMmwV"
      },
      "source": [
        "+ make predictions on test data using the trained model"
      ]
    },
    {
      "cell_type": "code",
      "execution_count": null,
      "metadata": {
        "colab": {
          "base_uri": "https://localhost:8080/"
        },
        "id": "fBXr-wG0MpY0",
        "outputId": "1f7b7066-eb98-4f61-9845-d53665f8fa21"
      },
      "outputs": [
        {
          "name": "stdout",
          "output_type": "stream",
          "text": [
            "32/32 [==============================] - 0s 8ms/step\n"
          ]
        }
      ],
      "source": [
        "# get predicted labels for the test images as \n",
        "predictions = model.predict(test_images)\n",
        "\n",
        "# Convert predictions to categorical labels\n",
        "# stores the predicted labels for test images,\n",
        "predicted_labels = np.argmax(predictions, axis=1) # 1 are labels \n",
        "\n",
        "# Convert test_labels from one-hot encoded format to categorical labels\n",
        "# stores the true labels for test images,\n",
        "true_labels = np.argmax(test_labels, axis=1)"
      ]
    },
    {
      "cell_type": "code",
      "execution_count": null,
      "metadata": {
        "id": "88Ew2JaR9GLw"
      },
      "outputs": [],
      "source": [
        "from sklearn.metrics import confusion_matrix"
      ]
    },
    {
      "cell_type": "markdown",
      "metadata": {
        "id": "0tXUo-XxNEjO"
      },
      "source": [
        "+ Confusion matrix Table that shows the\n",
        "\n",
        "  + true positive - true negative\n",
        "\n",
        "  + false positive - false negative"
      ]
    },
    {
      "cell_type": "code",
      "execution_count": null,
      "metadata": {
        "colab": {
          "base_uri": "https://localhost:8080/"
        },
        "id": "S8E_G5-H6ocy",
        "outputId": "27a30de1-c45c-4e51-f558-3715622e7d43"
      },
      "outputs": [
        {
          "name": "stdout",
          "output_type": "stream",
          "text": [
            "Confusion Matrix:\n",
            " [[10  0  0 ...  0  0  0]\n",
            " [ 0 28  0 ...  0  0  0]\n",
            " [ 0  0 28 ...  0  0  0]\n",
            " ...\n",
            " [ 0  0  0 ... 28  0  0]\n",
            " [ 0  0  0 ...  0 28  0]\n",
            " [ 0  0  0 ...  0  0 28]]\n"
          ]
        }
      ],
      "source": [
        "cm = confusion_matrix(true_labels, predicted_labels)\n",
        "print(\"Confusion Matrix:\\n\", cm)"
      ]
    },
    {
      "cell_type": "markdown",
      "metadata": {
        "id": "54WKmEppHJHv"
      },
      "source": [
        "# Visualization"
      ]
    },
    {
      "cell_type": "code",
      "execution_count": 12,
      "metadata": {
        "id": "1Adq_YO0P_r_"
      },
      "outputs": [],
      "source": [
        "from matplotlib import pyplot as plt\n",
        "import seaborn as sns"
      ]
    },
    {
      "cell_type": "markdown",
      "metadata": {
        "id": "AiJgS8AvQBYr"
      },
      "source": [
        "**Plotting Confusion Matrix Heatmap**"
      ]
    },
    {
      "cell_type": "code",
      "execution_count": null,
      "metadata": {
        "colab": {
          "base_uri": "https://localhost:8080/",
          "height": 718
        },
        "id": "FBZlEt6f6ocz",
        "outputId": "f9027921-da7d-41da-fb5a-cb8e36e52ffe"
      },
      "outputs": [
        {
          "data": {
            "image/png": "[encoded data removed]",
            "text/plain": [
              "<Figure size 1000x800 with 2 Axes>"
            ]
          },
          "metadata": {},
          "output_type": "display_data"
        }
      ],
      "source": [
        "classes = ['0', '1', '2', '3', '4', '5', '6', '7', '8', '9', 'A', 'B', 'C', 'D', 'E', 'F', 'G', 'H', 'I', 'J', 'K', 'L', 'M', 'N', 'O', 'P', 'Q', 'R', 'S', 'T', 'U', 'V', 'W', 'X', 'Y', 'Z']\n",
        "plt.figure(figsize=(10, 8))\n",
        "sns.heatmap(cm, \n",
        "            annot=True, \n",
        "            fmt='d',\n",
        "            cmap='Blues', \n",
        "            xticklabels=classes,\n",
        "            yticklabels=classes)\n",
        "\n",
        "plt.title(\"Confusion Matrix\")\n",
        "plt.xlabel(\"Predicted Labels\")\n",
        "plt.ylabel(\"True Labels\")\n",
        "plt.show()"
      ]
    },
    {
      "cell_type": "markdown",
      "metadata": {
        "id": "kuh9P6HaHSHr"
      },
      "source": [
        "# Save the model"
      ]
    },
    {
      "cell_type": "code",
      "source": [
        "model.save('OCR_CNN_model.h5')"
      ],
      "metadata": {
        "id": "cDGweOJuV3Uo"
      },
      "execution_count": null,
      "outputs": []
    },
    {
      "cell_type": "markdown",
      "metadata": {
        "id": "Weug1GzAIh3q"
      },
      "source": [
        "# Load the model"
      ]
    },
    {
      "cell_type": "code",
      "execution_count": 1,
      "metadata": {
        "id": "JTAWWFcdJKtD"
      },
      "outputs": [],
      "source": [
        "from keras.models import load_model"
      ]
    },
    {
      "cell_type": "code",
      "execution_count": 2,
      "metadata": {
        "id": "KAz7RgfeIl1O"
      },
      "outputs": [],
      "source": [
        "loaded_model = load_model('OCR_CNN_model.h5')"
      ]
    },
    {
      "cell_type": "markdown",
      "metadata": {
        "id": "ooUJdx4VJTii"
      },
      "source": [
        "# Predicting new results"
      ]
    },
    {
      "cell_type": "markdown",
      "metadata": {
        "id": "8KOKIPqUoL_x"
      },
      "source": [
        "+ **characters**"
      ]
    },
    {
      "cell_type": "code",
      "execution_count": 3,
      "metadata": {
        "id": "8jzy-YIZ6ocz"
      },
      "outputs": [],
      "source": [
        "def extract_and_recognize_chars(image):\n",
        "    # Preprocess the image\n",
        "    grayscale_image = cv2.cvtColor(image, cv2.COLOR_BGR2GRAY)\n",
        "    resized_image = cv2.resize(grayscale_image, (28, 28))\n",
        "    normalized_image = resized_image / 255.0\n",
        "    reshaped_image = np.reshape(normalized_image, (1, 28, 28, 1))\n",
        "\n",
        "    # Use the loaded model for prediction\n",
        "    predictions = loaded_model.predict(reshaped_image)\n",
        "    predicted_label = np.argmax(predictions)\n",
        "\n",
        "    # Convert the predicted label to the corresponding character\n",
        "    if predicted_label < 10:\n",
        "        recognized_text = str(predicted_label)\n",
        "    else:\n",
        "        recognized_text = chr(predicted_label - 10 + ord('A'))\n",
        "\n",
        "    return recognized_text"
      ]
    },
    {
      "cell_type": "code",
      "execution_count": 14,
      "metadata": {
        "id": "oSRTZplv6oc0",
        "colab": {
          "base_uri": "https://localhost:8080/",
          "height": 469
        },
        "outputId": "1edd64f4-8d4b-42e5-ce0d-22e4828433a1"
      },
      "outputs": [
        {
          "output_type": "execute_result",
          "data": {
            "text/plain": [
              "Text(0.5, 1.0, 'input char')"
            ]
          },
          "metadata": {},
          "execution_count": 14
        },
        {
          "output_type": "display_data",
          "data": {
            "text/plain": [
              "<Figure size 640x480 with 1 Axes>"
            ],
            "image/png": "[encoded data removed]"
          },
          "metadata": {}
        }
      ],
      "source": [
        "# Load the test image\n",
        "char_image_path = 'F.png'\n",
        "char_image = cv2.imread(char_image_path)\n",
        "plt.imshow(char_image)\n",
        "plt.title(\"input char\")"
      ]
    },
    {
      "cell_type": "code",
      "execution_count": 7,
      "metadata": {
        "colab": {
          "base_uri": "https://localhost:8080/"
        },
        "id": "KzECOPgW6oc0",
        "outputId": "cb70b8d8-fead-4824-c31b-e7cb4bee3a94"
      },
      "outputs": [
        {
          "output_type": "stream",
          "name": "stdout",
          "text": [
            "1/1 [==============================] - 0s 344ms/step\n"
          ]
        }
      ],
      "source": [
        "# Perform text extraction and recognition\n",
        "recognized_char = extract_and_recognize_chars(char_image)"
      ]
    },
    {
      "cell_type": "code",
      "execution_count": 10,
      "metadata": {
        "colab": {
          "base_uri": "https://localhost:8080/"
        },
        "id": "U-Xt8g2m6oc0",
        "outputId": "a70f1a11-9601-4411-80d8-2d196aa65d1f"
      },
      "outputs": [
        {
          "output_type": "stream",
          "name": "stdout",
          "text": [
            "Recognized Char: F\n"
          ]
        }
      ],
      "source": [
        "# Display recognized text\n",
        "print(\"Recognized Char:\", recognized_char)"
      ]
    },
    {
      "cell_type": "markdown",
      "metadata": {
        "id": "Db8KGOAMoPhh"
      },
      "source": [
        "+ **text**"
      ]
    },
    {
      "cell_type": "code",
      "execution_count": null,
      "metadata": {
        "id": "Kc7JU1Ul6oc1"
      },
      "outputs": [],
      "source": [
        "# def extract_and_recognize_text(image):\n",
        "#   gray = cv2.cvtColor(image, cv2.COLOR_BGR2GRAY)\n",
        "#   blur = cv2.GaussianBlur(gray, (5, 5), 0)\n",
        "#   thresh = cv2.adaptiveThreshold(blur, 255, cv2.ADAPTIVE_THRESH_GAUSSIAN_C, cv2.THRESH_BINARY, 11, 2)\n",
        "\n",
        "#   # Character Segmentation\n",
        "#   contours, hierarchy = cv2.findContours(thresh, cv2.RETR_EXTERNAL, cv2.CHAIN_APPROX_SIMPLE)\n",
        "#   recognized_text = \"\"\n",
        "\n",
        "#   # Display intermediate steps\n",
        "#   plt.subplot(131)\n",
        "#   plt.imshow(gray, cmap='gray')\n",
        "#   plt.title(\"Grayscale Image\")\n",
        "#   plt.subplot(132)\n",
        "#   plt.imshow(blur, cmap='gray')\n",
        "#   plt.title(\"Blurred Image\")\n",
        "#   plt.subplot(133)\n",
        "#   plt.imshow(thresh, cmap='gray')\n",
        "#   plt.title(\"Thresholded Image\")\n",
        "#   plt.show()\n",
        "\n",
        "#   for cnt in contours:\n",
        "#       x, y, w, h = cv2.boundingRect(cnt)\n",
        "\n",
        "#       # Character Segmentation Verification\n",
        "#       cv2.rectangle(image, (x, y), (x+w, y+h), (0, 255, 0), 2)  # Draw bounding boxes around characters\n",
        "\n",
        "#       character_image = image[y:y+h, x:x+w]\n",
        "#       character_image = cv2.cvtColor(character_image, cv2.COLOR_BGR2GRAY)\n",
        "#       character_image = cv2.resize(character_image, (28, 28))\n",
        "#       character_image = character_image.reshape(1, 28, 28, 1) / 255.0\n",
        "      \n",
        "#       # Character Resizing and Reshaping Verification\n",
        "#       plt.imshow(character_image.squeeze(), cmap='gray')\n",
        "#       plt.title(\"Character Image\")\n",
        "#       plt.show()\n",
        "\n",
        "#       # Character Recognition\n",
        "#       prediction = loaded_model.predict(character_image)\n",
        "#       predicted_label = np.argmax(prediction)\n",
        "#       recognized_text += str(chr(predicted_label))\n",
        "      \n",
        "#   return recognized_text"
      ]
    },
    {
      "cell_type": "code",
      "execution_count": null,
      "metadata": {
        "id": "JKByYvDQ6oc2"
      },
      "outputs": [],
      "source": [
        "# # Load the test image\n",
        "# test_image_path = '7.png'\n",
        "# test_image = cv2.imread(test_image_path)"
      ]
    },
    {
      "cell_type": "code",
      "execution_count": null,
      "metadata": {
        "id": "05922UIE6oc2"
      },
      "outputs": [],
      "source": [
        "# # Perform text extraction and recognition\n",
        "# recognized_text = extract_and_recognize_text(test_image)"
      ]
    },
    {
      "cell_type": "code",
      "execution_count": null,
      "metadata": {
        "id": "rjvMqHZbt5wL"
      },
      "outputs": [],
      "source": [
        "# # Display recognized text\n",
        "# print(\"Recognized Text:\", recognized_text)"
      ]
    }
  ],
  "metadata": {
    "colab": {
      "provenance": []
    },
    "kernelspec": {
      "display_name": "Python 3",
      "language": "python",
      "name": "python3"
    },
    "language_info": {
      "codemirror_mode": {
        "name": "ipython",
        "version": 3
      },
      "file_extension": ".py",
      "mimetype": "text/x-python",
      "name": "python",
      "nbconvert_exporter": "python",
      "pygments_lexer": "ipython3",
      "version": "3.10.6"
    },
    "orig_nbformat": 4
  },
  "nbformat": 4,
  "nbformat_minor": 0
}